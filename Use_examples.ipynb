{
 "cells": [
  {
   "cell_type": "markdown",
   "metadata": {},
   "source": [
    "## Use Case\n",
    "-----\n",
    "Imagine you have to work with Peninsular Electric System data in your analysis, and you team needs the production in a period requested by the following categories:\n",
    "\n",
    "* Renewables\n",
    "* Conventionals\n",
    "* Interchanges\n",
    "* Zero Emmisions techologies\n",
    "\n",
    "Your team gave you  a software that uses Dataframemodel(PeninsulaElectricDataSystem) that can handle the extraction and transform of data, and you can use it to create and script to generate the data desired."
   ]
  },
  {
   "cell_type": "markdown",
   "metadata": {},
   "source": [
    "## Script to get data:"
   ]
  },
  {
   "cell_type": "code",
   "execution_count": 20,
   "metadata": {},
   "outputs": [],
   "source": [
    "from datetime import date, timedelta\n",
    "import pandas as pd\n",
    "\n",
    "from PeninsulaElectricDataSystem.transform.DataFrameModels.peninsula import PeninsularData\n",
    "from PeninsulaElectricDataSystem import peninsula\n",
    "\n",
    "period_requested = {\n",
    "    \"start\": date(2020,1,1),\n",
    "    \"end\": date(2020,1,3)\n",
    "}\n",
    "\n",
    "date_extraction = period_requested[\"start\"]\n",
    "data_in_period_requested = peninsula.get_data_on(date_extraction).data\n",
    "while date_extraction != period_requested[\"end\"]:\n",
    "    date_extraction = date_extraction + timedelta(days=1)\n",
    "    peninsularDataExtracted = peninsula.get_data_on(date_extraction)\n",
    "    data_in_period_requested = pd.concat([data_in_period_requested,peninsularDataExtracted.data])\n",
    "    data_in_period_requested.index = range(data_in_period_requested.shape[0])\n",
    "\n",
    "data_in_period_requested = PeninsularData(data_in_period_requested)"
   ]
  },
  {
   "cell_type": "markdown",
   "source": [
    "### Results are in KWh (no conversions applied)"
   ],
   "metadata": {
    "collapsed": false
   }
  },
  {
   "cell_type": "code",
   "execution_count": 21,
   "outputs": [
    {
     "data": {
      "text/plain": "solar_thermal               57145.0\nsolar_pv                   451712.0\nthermal_renewable          225957.0\nwind_turbines             1855091.0\ncogeneration_and_waste    2089638.0\nhydro                     4006523.0\ndtype: float64"
     },
     "execution_count": 21,
     "metadata": {},
     "output_type": "execute_result"
    }
   ],
   "source": [
    "data_in_period_requested.data[data_in_period_requested.renewables()].sum()"
   ],
   "metadata": {
    "collapsed": false
   }
  },
  {
   "cell_type": "code",
   "execution_count": 22,
   "outputs": [
    {
     "data": {
      "text/plain": "coal                    388485.0\ncombined_cycle         2951019.0\nfuel_gas                     0.0\nnuclear                4350046.0\nauxiliar_generation          0.0\ndtype: float64"
     },
     "execution_count": 22,
     "metadata": {},
     "output_type": "execute_result"
    }
   ],
   "source": [
    "data_in_period_requested.data[data_in_period_requested.conventionals()].sum()"
   ],
   "metadata": {
    "collapsed": false
   }
  },
  {
   "cell_type": "code",
   "execution_count": 23,
   "outputs": [
    {
     "data": {
      "text/plain": "solar_thermal               57145.0\nsolar_pv                   451712.0\nthermal_renewable          225957.0\nwind_turbines             1855091.0\ncogeneration_and_waste    2089638.0\nhydro                     4006523.0\nhydro                     4006523.0\nnuclear                   4350046.0\ndtype: float64"
     },
     "execution_count": 23,
     "metadata": {},
     "output_type": "execute_result"
    }
   ],
   "source": [
    "data_in_period_requested.data[data_in_period_requested.zero_emissions()].sum()"
   ],
   "metadata": {
    "collapsed": false
   }
  },
  {
   "cell_type": "code",
   "execution_count": 24,
   "outputs": [
    {
     "data": {
      "text/plain": "balear_link                   -111196.0\ninternational_interchanges    1267511.0\ndtype: float64"
     },
     "execution_count": 24,
     "metadata": {},
     "output_type": "execute_result"
    }
   ],
   "source": [
    "data_in_period_requested.data[data_in_period_requested.interchanges()].sum()"
   ],
   "metadata": {
    "collapsed": false
   }
  },
  {
   "cell_type": "code",
   "execution_count": 24,
   "outputs": [],
   "source": [],
   "metadata": {
    "collapsed": false
   }
  }
 ],
 "metadata": {
  "kernelspec": {
   "display_name": "Python 3 (ipykernel)",
   "language": "python",
   "name": "python3"
  },
  "language_info": {
   "codemirror_mode": {
    "name": "ipython",
    "version": 3
   },
   "file_extension": ".py",
   "mimetype": "text/x-python",
   "name": "python",
   "nbconvert_exporter": "python",
   "pygments_lexer": "ipython3",
   "version": "3.8.10"
  }
 },
 "nbformat": 4,
 "nbformat_minor": 1
}
